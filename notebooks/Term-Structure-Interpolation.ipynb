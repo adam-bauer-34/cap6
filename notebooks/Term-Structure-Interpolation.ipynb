{
 "cells": [
  {
   "cell_type": "markdown",
   "id": "7ff94225",
   "metadata": {},
   "source": [
    "# Interpolating term structure for ensemble runs\n",
    "\n",
    "The Bauer & Rudebusch (2022) paper gives 4 term structures for 4 discount rates of 1.5%, 2%, 3%, and 5%. We want the term structure of the 4.25% discount rate that is consistent with their framework. So here we bilinearly interpolate the pure rate of time preference and the elasticity of intertemporal substitution to arrive at the discount rate."
   ]
  },
  {
   "cell_type": "code",
   "execution_count": 24,
   "id": "6fb234a3",
   "metadata": {},
   "outputs": [],
   "source": [
    "import numpy as np\n",
    "import matplotlib.pyplot as plt \n",
    "\n",
    "from scipy.interpolate import interp2d\n",
    "from mpl_toolkits.mplot3d import Axes3D"
   ]
  },
  {
   "cell_type": "code",
   "execution_count": 63,
   "id": "92fcdf52",
   "metadata": {},
   "outputs": [],
   "source": [
    "prtps = np.asarray([0.1, 0.2, 0.5, 0.8, 2.4])\n",
    "eiss = np.asarray([0.93, 1.2, 1.42, 1.53, 1.86])\n",
    "dis_rates = np.asarray([1.5, 2, 2.5, 3, 5])"
   ]
  },
  {
   "cell_type": "code",
   "execution_count": 64,
   "id": "db972edb",
   "metadata": {},
   "outputs": [],
   "source": [
    "interp_disrates= interp2d(prtps, eiss, dis_rates, kind='linear')"
   ]
  },
  {
   "cell_type": "code",
   "execution_count": 67,
   "id": "5d4ade25",
   "metadata": {},
   "outputs": [
    {
     "data": {
      "text/plain": [
       "array([[1.50798508, 1.50816705, 1.50834902, ..., 3.25168302, 3.25168302,\n",
       "        3.25168302],\n",
       "       [1.50811687, 1.50829884, 1.50848082, ..., 3.25185801, 3.25185801,\n",
       "        3.25185801],\n",
       "       [1.50824866, 1.50843064, 1.50861262, ..., 3.25203299, 3.25203299,\n",
       "        3.25203299],\n",
       "       ...,\n",
       "       [2.82549785, 2.82572489, 2.82595193, ..., 5.00104136, 5.00104136,\n",
       "        5.00104136],\n",
       "       [2.82562965, 2.82585669, 2.82608373, ..., 5.00121635, 5.00121635,\n",
       "        5.00121635],\n",
       "       [2.82576144, 2.82598848, 2.82621553, ..., 5.00139134, 5.00139134,\n",
       "        5.00139134]])"
      ]
     },
     "execution_count": 67,
     "metadata": {},
     "output_type": "execute_result"
    }
   ],
   "source": [
    "interp_prtps = np.linspace(0.1, 2.5, 10000)\n",
    "interp_eiss = np.linspace(0.93, 1.86, 10000)\n",
    "interp_dis_rates = interp_disrates(interp_prtps, interp_eiss)\n",
    "\n",
    "interp_dis_rates"
   ]
  },
  {
   "cell_type": "code",
   "execution_count": 68,
   "id": "2bed8b8c",
   "metadata": {},
   "outputs": [
    {
     "data": {
      "text/plain": [
       "(array([5706, 5706, 5706, ..., 9999, 9999, 9999]),\n",
       " array([9582, 9583, 9584, ..., 9997, 9998, 9999]))"
      ]
     },
     "execution_count": 68,
     "metadata": {},
     "output_type": "execute_result"
    }
   ],
   "source": [
    "np.where(interp_dis_rates >= 4.25)"
   ]
  },
  {
   "cell_type": "code",
   "execution_count": 73,
   "id": "7fe27f90",
   "metadata": {},
   "outputs": [
    {
     "data": {
      "text/plain": [
       "array([4.25008855, 4.25016643, 4.25016643, ..., 5.00139134, 5.00139134,\n",
       "       5.00139134])"
      ]
     },
     "execution_count": 73,
     "metadata": {},
     "output_type": "execute_result"
    }
   ],
   "source": [
    "interp_dis_rates[np.where(interp_dis_rates >= 4.25)]"
   ]
  },
  {
   "cell_type": "code",
   "execution_count": 74,
   "id": "4f49355c",
   "metadata": {},
   "outputs": [],
   "source": [
    "prtp_ind = np.where(interp_dis_rates >= 4.25)[0][0]\n",
    "eis_ind = np.where(interp_dis_rates >= 4.25)[1][0]"
   ]
  },
  {
   "cell_type": "code",
   "execution_count": 76,
   "id": "fcfd3097",
   "metadata": {},
   "outputs": [
    {
     "data": {
      "text/plain": [
       "(1.4695769576957696, 1.8212151215121513)"
      ]
     },
     "execution_count": 76,
     "metadata": {},
     "output_type": "execute_result"
    }
   ],
   "source": [
    "prtp = interp_prtps[prtp_ind]\n",
    "eis = interp_eiss[eis_ind]\n",
    "\n",
    "prtp, eis"
   ]
  },
  {
   "cell_type": "code",
   "execution_count": 77,
   "id": "dcea6cb1",
   "metadata": {},
   "outputs": [
    {
     "data": {
      "text/plain": [
       "4.201399639963997"
      ]
     },
     "execution_count": 77,
     "metadata": {},
     "output_type": "execute_result"
    }
   ],
   "source": [
    "# check\n",
    "prtp + 1.5 * eis"
   ]
  },
  {
   "cell_type": "code",
   "execution_count": null,
   "id": "058a960e",
   "metadata": {},
   "outputs": [],
   "source": []
  }
 ],
 "metadata": {
  "kernelspec": {
   "display_name": "Python 3 (ipykernel)",
   "language": "python",
   "name": "python3"
  },
  "language_info": {
   "codemirror_mode": {
    "name": "ipython",
    "version": 3
   },
   "file_extension": ".py",
   "mimetype": "text/x-python",
   "name": "python",
   "nbconvert_exporter": "python",
   "pygments_lexer": "ipython3",
   "version": "3.9.12"
  }
 },
 "nbformat": 4,
 "nbformat_minor": 5
}
