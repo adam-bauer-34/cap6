{
 "cells": [
  {
   "cell_type": "markdown",
   "id": "pacific-discount",
   "metadata": {},
   "source": [
    "# TCREZClimate master analysis notebook\n",
    "\n",
    "In this notebook, we provide a smooth framework for users to analyze the output of TCREZClimate."
   ]
  },
  {
   "cell_type": "code",
   "execution_count": 6,
   "id": "alien-pledge",
   "metadata": {},
   "outputs": [],
   "source": [
    "import sys\n",
    "\n",
    "import numpy as np\n",
    "import matplotlib.pyplot as plt \n",
    "\n",
    "sys.path.append(\"/data/keeling/a/adammb4/ClimateEcon/ez-climate/TCREZClimate\")\n",
    "from src.tree import TreeModel\n",
    "from src.climate import Climate\n",
    "from src.emit_baseline import BPWEmissionBaseline\n",
    "from src.damage import BPWDamage"
   ]
  },
  {
   "cell_type": "markdown",
   "id": "returning-bermuda",
   "metadata": {},
   "source": [
    "## Quick model setup\n",
    "\n",
    "Make sure this matches the main file!"
   ]
  },
  {
   "cell_type": "code",
   "execution_count": null,
   "id": "contrary-understanding",
   "metadata": {},
   "outputs": [],
   "source": [
    "10, 40, 80, 180, 280, 380]"
   ]
  }
 ],
 "metadata": {
  "kernelspec": {
   "display_name": "Python 3",
   "language": "python",
   "name": "python3"
  },
  "language_info": {
   "codemirror_mode": {
    "name": "ipython",
    "version": 3
   },
   "file_extension": ".py",
   "mimetype": "text/x-python",
   "name": "python",
   "nbconvert_exporter": "python",
   "pygments_lexer": "ipython3",
   "version": "3.8.5"
  }
 },
 "nbformat": 4,
 "nbformat_minor": 5
}
