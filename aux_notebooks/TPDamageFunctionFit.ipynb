{
 "cells": [
  {
   "cell_type": "markdown",
   "id": "mechanical-illustration",
   "metadata": {},
   "source": [
    "# Tipping point damage function fit\n",
    "\n",
    "In *Economic impacts of tipping points in the climate system* by Dietz et al. 2021, they present a damage function for eight climate tipping points. In this notebook, we fit the uncertainty profile of the damage function they present \"by eye.\" This is because the model data is somewhat opaque in how they calculate the damages, and it might just be better to fit it \"as best we can.\" (Moreover, since the damage function is somewhat fictitous to begin with, it matters little how precisely we fit the function.)"
   ]
  },
  {
   "cell_type": "code",
   "execution_count": null,
   "id": "southern-particular",
   "metadata": {},
   "outputs": [],
   "source": [
    "import numpy as np\n",
    "import matplotlib.pyplot as plt"
   ]
  },
  {
   "cell_type": "code",
   "execution_count": null,
   "id": "miniature-austria",
   "metadata": {},
   "outputs": [],
   "source": [
    "B_MEAN = 0.48\n",
    "A_MEAN = -0.04\n",
    "\n",
    "CONSUMP_INIT = 61.88 # trillion 2020 USD (from World Bank)\n",
    "GLOB_GDP_INIT = 84.75 # trillion 2020 USD (from World Bank)\n",
    "factor = CONSUMP_INIT/GLOB_GDP_INIT\n",
    "\n",
    "gmst = np.arange(0, 8, 0.05)\n",
    "\n",
    "DRAWS = 10**4\n",
    "b_dist = np.random.normal(loc=B_MEAN, scale=0.04, size=DRAWS)\n",
    "a_dist = np.random.normal(loc=A_MEAN, scale=0.01, size=DRAWS)\n",
    "\n",
    "dam_funcs = factor * (b_dist[:, None] * gmst + a_dist[:, None] * gmst**2) * 0.01\n",
    "dam_mean = (B_MEAN * gmst + A_MEAN * gmst**2) * factor * 0.01"
   ]
  },
  {
   "cell_type": "code",
   "execution_count": null,
   "id": "jewish-football",
   "metadata": {},
   "outputs": [],
   "source": [
    "maxpolyd = np.max(dam_funcs[:,-1])\n",
    "lowpolyd = np.min(dam_funcs[:,-1])\n",
    "maxindex = np.where(dam_funcs[:,-1] == maxpolyd)[0]\n",
    "lowindex = np.where(dam_funcs[:,-1] == lowpolyd)[0]\n",
    "upperpolyd = dam_funcs[maxindex,:]\n",
    "lowerpolyd = dam_funcs[lowindex,:]"
   ]
  },
  {
   "cell_type": "code",
   "execution_count": null,
   "id": "crude-canada",
   "metadata": {},
   "outputs": [],
   "source": [
    "fig, ax = plt.subplots(1, figsize=(12,6))\n",
    "\n",
    "ax.plot(gmst, dam_mean, color='b')\n",
    "ax.plot(gmst, lowerpolyd[0,:], color='b', linestyle='dashed')\n",
    "ax.plot(gmst, upperpolyd[0,:], color='b', linestyle='dashed')\n",
    "ax.fill_between(gmst, lowerpolyd[0,:], upperpolyd[0,:], color='b', alpha=0.2)\n",
    "#ax.set_ylim((-0.5,0.5))\n",
    "ax.set_xlim((0,8))\n",
    "ax.set_xlabel(\"GMST change without tipping points ($^{\\circ}$C)\")\n",
    "ax.set_ylabel(\"Additional tipping point damage (% base cons.)\")"
   ]
  },
  {
   "cell_type": "code",
   "execution_count": null,
   "id": "awful-pepper",
   "metadata": {},
   "outputs": [],
   "source": []
  }
 ],
 "metadata": {
  "kernelspec": {
   "display_name": "Python 3",
   "language": "python",
   "name": "python3"
  },
  "language_info": {
   "codemirror_mode": {
    "name": "ipython",
    "version": 3
   },
   "file_extension": ".py",
   "mimetype": "text/x-python",
   "name": "python",
   "nbconvert_exporter": "python",
   "pygments_lexer": "ipython3",
   "version": "3.8.5"
  }
 },
 "nbformat": 4,
 "nbformat_minor": 5
}
