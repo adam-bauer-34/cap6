{
 "cells": [
  {
   "cell_type": "markdown",
   "id": "7ff94225",
   "metadata": {},
   "source": [
    "# Interpolating term structure for ensemble runs\n",
    "\n",
    "The Bauer & Rudebusch (2022) paper gives 4 term structures for 4 discount rates of 1.5%, 2%, 3%, and 5%. We want the term structure of the 4.25% discount rate that is consistent with their framework. So here we bilinearly interpolate the pure rate of time preference and the elasticity of intertemporal substitution to arrive at the discount rate."
   ]
  },
  {
   "cell_type": "code",
   "execution_count": null,
   "id": "6fb234a3",
   "metadata": {},
   "outputs": [],
   "source": [
    "import numpy as np\n",
    "import matplotlib.pyplot as plt \n",
    "\n",
    "from scipy.interpolate import interp2d\n",
    "from mpl_toolkits.mplot3d import Axes3D"
   ]
  },
  {
   "attachments": {},
   "cell_type": "markdown",
   "id": "e264d9f9",
   "metadata": {},
   "source": [
    "### Data from Bauer & Rudebusch (2022) term structures"
   ]
  },
  {
   "cell_type": "code",
   "execution_count": null,
   "id": "92fcdf52",
   "metadata": {},
   "outputs": [],
   "source": [
    "prtps = np.asarray([0.1, 0.2, 0.5, 0.8, 2.4])\n",
    "eiss = np.asarray([0.93, 1.2, 1.42, 1.53, 1.86])\n",
    "dis_rates = np.asarray([1.5, 2, 2.5, 3, 5])"
   ]
  },
  {
   "cell_type": "code",
   "execution_count": null,
   "id": "db972edb",
   "metadata": {},
   "outputs": [],
   "source": [
    "interp_disrates= interp2d(prtps, eiss, dis_rates, kind='linear')"
   ]
  },
  {
   "cell_type": "code",
   "execution_count": null,
   "id": "5d4ade25",
   "metadata": {},
   "outputs": [],
   "source": [
    "interp_prtps = np.linspace(0.1, 2.5, 10000)\n",
    "interp_eiss = np.linspace(0.93, 1.86, 10000)\n",
    "interp_dis_rates = interp_disrates(interp_prtps, interp_eiss)\n",
    "\n",
    "interp_dis_rates"
   ]
  },
  {
   "cell_type": "code",
   "execution_count": null,
   "id": "2bed8b8c",
   "metadata": {},
   "outputs": [],
   "source": [
    "np.where(interp_dis_rates >= 4.25)"
   ]
  },
  {
   "cell_type": "code",
   "execution_count": null,
   "id": "7fe27f90",
   "metadata": {},
   "outputs": [],
   "source": [
    "interp_dis_rates[np.where(interp_dis_rates >= 4.25)]"
   ]
  },
  {
   "cell_type": "code",
   "execution_count": null,
   "id": "4f49355c",
   "metadata": {},
   "outputs": [],
   "source": [
    "prtp_ind = np.where(interp_dis_rates >= 4.25)[0][0]\n",
    "eis_ind = np.where(interp_dis_rates >= 4.25)[1][0]"
   ]
  },
  {
   "cell_type": "code",
   "execution_count": null,
   "id": "fcfd3097",
   "metadata": {},
   "outputs": [],
   "source": [
    "prtp = interp_prtps[prtp_ind]\n",
    "eis = interp_eiss[eis_ind]\n",
    "\n",
    "prtp, eis"
   ]
  },
  {
   "cell_type": "code",
   "execution_count": null,
   "id": "dcea6cb1",
   "metadata": {},
   "outputs": [],
   "source": [
    "# check\n",
    "prtp + 1.5 * eis"
   ]
  },
  {
   "cell_type": "code",
   "execution_count": null,
   "id": "058a960e",
   "metadata": {},
   "outputs": [],
   "source": []
  }
 ],
 "metadata": {
  "kernelspec": {
   "display_name": "Python 3 (ipykernel)",
   "language": "python",
   "name": "python3"
  },
  "language_info": {
   "codemirror_mode": {
    "name": "ipython",
    "version": 3
   },
   "file_extension": ".py",
   "mimetype": "text/x-python",
   "name": "python",
   "nbconvert_exporter": "python",
   "pygments_lexer": "ipython3",
   "version": "3.9.12"
  }
 },
 "nbformat": 4,
 "nbformat_minor": 5
}
