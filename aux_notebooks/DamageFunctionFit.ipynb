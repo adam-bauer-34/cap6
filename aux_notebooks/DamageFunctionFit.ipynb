{
 "cells": [
  {
   "cell_type": "markdown",
   "id": "attempted-talent",
   "metadata": {},
   "source": [
    "# Damage function fit\n",
    "\n",
    "In this notebook we fit the damage function for Burke *et al.*, 2018, Rose *et al.*, 2017, and Howard & Sterner, 2017. I have the data from Burke _et al._, 2018 using their reproduction code (thanks David!), I graph grabber'd the data for the second damage function from the IPCC WGII plot on p. 2880, and the Howard & Sterner data was taken from a figure in their appendix. I then fit the data to a quadratic function."
   ]
  },
  {
   "cell_type": "markdown",
   "id": "executive-workstation",
   "metadata": {},
   "source": [
    "## Setup"
   ]
  },
  {
   "cell_type": "code",
   "execution_count": null,
   "id": "female-devices",
   "metadata": {},
   "outputs": [],
   "source": [
    "import sys\n",
    "import datetime\n",
    "import os\n",
    "\n",
    "import numpy as np\n",
    "import matplotlib.pyplot as plt\n",
    "import matplotlib as mpl\n",
    "\n",
    "from scipy.optimize import curve_fit\n",
    "from matplotlib.ticker import MultipleLocator, FormatStrFormatter, AutoMinorLocator\n",
    "\n",
    "mpl.rcParams['mathtext.fontset'] = 'stix'\n",
    "mpl.rcParams['font.family'] = 'STIXGeneral'\n",
    "\n",
    "# general plot parameters\n",
    "color_list = ['#000000', '#E69F00', '#56B4E9', '#009E73', '#F0E442', '#0072B2', '#D55E00', '#CC79A7']\n",
    "marker_list = ['o', 's', 'P', '+', 'D', 'v', '3']\n",
    "fontsize = 22\n",
    "labelsize = 20\n",
    "markersize = 10\n",
    "figsize = (16, 10)\n",
    "\n",
    "# plotting parameters\n",
    "color_list = ['#000000', '#E69F00', '#56B4E9', '#009E73', '#F0E442', '#0072B2', '#D55E00', '#CC79A7'] * 2\n",
    "marker_list = ['o', 's', 'P', '*', '<', 'v', '>', '^', 'p']\n",
    "linestyle_list = ['solid', 'dashed', 'dashdot', 'dotted'] * 4\n",
    "linewidth = 2\n",
    "node_times = [2020, 2030, 2060, 2100, 2150, 2200]\n",
    "x_label = 'Year'\n",
    "\n",
    "%matplotlib inline\n",
    "%config InlineBackend.figure_format = 'retina' \n",
    "plt.rcParams['figure.figsize'] = 16, 10\n",
    "params = {'legend.fontsize': 18,\n",
    "          'legend.frameon': True,\n",
    "          'figure.figsize': (16, 10),\n",
    "         'axes.labelsize': 20,\n",
    "         'axes.titlesize': 20,\n",
    "         'xtick.labelsize': 18,\n",
    "         'ytick.labelsize': 18,\n",
    "         'font.family': 'serif'}\n",
    "plt.rcParams.update(params)\n",
    "\n",
    "# make base filename\n",
    "today = datetime.datetime.now()\n",
    "year = str(today.year)\n",
    "day = str(today.day)\n",
    "month = str(today.month)\n",
    "\n",
    "basefile = ''.join([month, '-', day, '-', year, '-'])\n",
    "path = '../data/' # might need to be edited for a given user's needs/directory structure. just point the notebook towards the 'data' directory."
   ]
  },
  {
   "cell_type": "markdown",
   "id": "ccf2a9ee",
   "metadata": {},
   "source": [
    "## General fitting function\n",
    "\n",
    "Each one of our damage functions follow the same damage function fitting and uncertainty estimation."
   ]
  },
  {
   "cell_type": "code",
   "execution_count": null,
   "id": "170a855f",
   "metadata": {},
   "outputs": [],
   "source": [
    "def fitted_curve(loc, scale, conc_mult):\n",
    "    \"\"\"Get fitted polynomial coefficients.\n",
    "    \n",
    "    Parameters\n",
    "    ----------\n",
    "    loc: float\n",
    "        guess for mean curve fit parameter D_1d\n",
    "    \n",
    "    scale: float\n",
    "        guess for std deviaion of curve fit parameter D_1d\n",
    "    \n",
    "    conc_mult: float\n",
    "        multiple to determine concavity. If concave up, conc_mult > 1. \n",
    "        If concave down, 0 < conc_mult < 1.\n",
    "    \n",
    "    Returns\n",
    "    -------\n",
    "    b2d: (N_draws,) numpy array\n",
    "        distribution of second order coefficient in fitted polynomial\n",
    "    \n",
    "    b1d: (N_draws,) numpy array\n",
    "        distribution of first order coefficient in fitted polynomial\n",
    "    \"\"\"\n",
    "    \n",
    "    T_1 = 3\n",
    "    T_2 = 10\n",
    "\n",
    "    N_draws = 10000\n",
    "    D_1d = np.random.normal(loc=loc, scale=scale, size=N_draws)\n",
    "    D_2d = D_1d * (T_2 * T_1**(-1)) * conc_mult\n",
    "\n",
    "    b2d = (D_2d * T_1 - D_1d * T_2) * (T_1 * T_2 * (T_2 - T_1))**(-1)\n",
    "    b1d = (D_1d * T_2**2 - D_2d * T_1**2) * (T_1 * T_2 * (T_2 - T_1))**(-1)\n",
    "    \n",
    "    print(\"First order mean: \", np.mean(b1d), \n",
    "      \"\\nSecond order mean: \", np.mean(b2d), \n",
    "      \"\\nFirst order std dev: \", np.std(b1d), \n",
    "      \"\\nSecond order std dev:\", np.std(b2d))\n",
    "    \n",
    "    return b2d, b1d\n",
    "\n",
    "def f(x, a, b):\n",
    "    return a * x**2 + b * x\n",
    "\n",
    "def g(x, a, b):\n",
    "    return a * x + b"
   ]
  },
  {
   "cell_type": "markdown",
   "id": "472132d5",
   "metadata": {},
   "source": [
    "## Burke _et al._, 2018 damage functions\n",
    "\n",
    "There is a damage function per SSP in this one, so it's a more involved process than the others."
   ]
  },
  {
   "cell_type": "code",
   "execution_count": null,
   "id": "a2c83bef",
   "metadata": {},
   "outputs": [],
   "source": [
    "# mid century\n",
    "burke_2049_ssp1 = np.genfromtxt(''.join([path, 'ssp1_2049_t_d.csv']), delimiter=',')\n",
    "burke_2049_ssp1_t, burke_2049_ssp1_d = burke_2049_ssp1.T\n",
    "\n",
    "burke_2049_ssp2 = np.genfromtxt(''.join([path, 'ssp2_2049_t_d.csv']), delimiter=',')\n",
    "burke_2049_ssp2_t, burke_2049_ssp2_d = burke_2049_ssp2.T\n",
    "\n",
    "burke_2049_ssp3 = np.genfromtxt(''.join([path, 'ssp3_2049_t_d.csv']), delimiter=',')\n",
    "burke_2049_ssp3_t, burke_2049_ssp3_d = burke_2049_ssp3.T\n",
    "\n",
    "burke_2049_ssp4 = np.genfromtxt(''.join([path, 'ssp4_2049_t_d.csv']), delimiter=',')\n",
    "burke_2049_ssp4_t, burke_2049_ssp4_d = burke_2049_ssp4.T\n",
    "\n",
    "burke_2049_ssp5 = np.genfromtxt(''.join([path, 'ssp5_2049_t_d.csv']), delimiter=',')\n",
    "burke_2049_ssp5_t, burke_2049_ssp5_d = burke_2049_ssp5.T\n",
    "\n",
    "# end of century\n",
    "burke_2099_ssp1 = np.genfromtxt(''.join([path, 'ssp1_2099_t_d.csv']), delimiter=',')\n",
    "burke_2099_ssp1_t, burke_2099_ssp1_d = burke_2099_ssp1.T\n",
    "\n",
    "burke_2099_ssp2 = np.genfromtxt(''.join([path, 'ssp2_2099_t_d.csv']), delimiter=',')\n",
    "burke_2099_ssp2_t, burke_2099_ssp2_d = burke_2099_ssp2.T\n",
    "\n",
    "burke_2099_ssp3 = np.genfromtxt(''.join([path, 'ssp3_2099_t_d.csv']), delimiter=',')\n",
    "burke_2099_ssp3_t, burke_2099_ssp3_d = burke_2099_ssp3.T\n",
    "\n",
    "burke_2099_ssp4 = np.genfromtxt(''.join([path, 'ssp4_2099_t_d.csv']), delimiter=',')\n",
    "burke_2099_ssp4_t, burke_2099_ssp4_d = burke_2099_ssp4.T\n",
    "\n",
    "burke_2099_ssp5 = np.genfromtxt(''.join([path, 'ssp5_2099_t_d.csv']), delimiter=',')\n",
    "burke_2099_ssp5_t, burke_2099_ssp5_d = burke_2099_ssp5.T"
   ]
  },
  {
   "cell_type": "markdown",
   "id": "f4a3d143",
   "metadata": {},
   "source": [
    "### SSP1"
   ]
  },
  {
   "cell_type": "code",
   "execution_count": null,
   "id": "9b895636",
   "metadata": {},
   "outputs": [],
   "source": [
    "burke_fit = curve_fit(g, burke_2049_ssp1_t, burke_2049_ssp1_d)\n",
    "burke_means, burke_covars = burke_fit\n",
    "burke_a_mean, burke_b_mean = burke_means\n",
    "\n",
    "burke_fit_end = curve_fit(f, burke_2099_ssp1_t, burke_2099_ssp1_d)\n",
    "burke_mean_end, burke_covars_end = burke_fit_end\n",
    "burke_a_mean_end, burke_b_mean_end = burke_mean_end\n",
    "\n",
    "print(\"Mid-century:\")\n",
    "burke_ssp1_mid_d2, burke_ssp1_mid_d1 = fitted_curve(0.075, 0.01, 2.5)\n",
    "\n",
    "print(\"\\nEnd-of-century:\")\n",
    "burke_ssp1_end_d2, burke_ssp1_end_d1 = fitted_curve(0.2, 0.04, .87)\n",
    "\n",
    "temp = np.arange(0, 7, 0.01)\n",
    "\n",
    "for i in range(1000):\n",
    "    plt.plot(temp, temp * (burke_ssp1_mid_d1[i] + burke_ssp1_mid_d2[i] * temp), alpha=0.01)\n",
    "\n",
    "plt.plot(temp, temp * (np.mean(burke_ssp1_mid_d1) + np.mean(burke_ssp1_mid_d2) * temp), color='k', linewidth=3)   \n",
    "plt.plot(temp, temp * burke_a_mean + burke_b_mean, linestyle='dashed', color='r', linewidth=3)\n",
    "plt.scatter(burke_2049_ssp1_t, burke_2049_ssp1_d)\n",
    "\n",
    "for i in range(1000):\n",
    "    plt.plot(temp, temp * (burke_ssp1_end_d1[i] + burke_ssp1_end_d2[i] * temp), alpha=0.01)\n",
    "\n",
    "plt.plot(temp, temp * (np.mean(burke_ssp1_end_d1) + np.mean(burke_ssp1_end_d2) * temp), color='k', linewidth=3)   \n",
    "plt.plot(temp, temp * (burke_a_mean_end * temp + burke_b_mean_end), linestyle='dashed', color='r', linewidth=3)\n",
    "plt.scatter(burke_2099_ssp1_t, burke_2099_ssp1_d)\n",
    "\n",
    "plt.ylim(0,0.7)"
   ]
  },
  {
   "cell_type": "markdown",
   "id": "db23b27b",
   "metadata": {},
   "source": [
    "### SSP2"
   ]
  },
  {
   "cell_type": "code",
   "execution_count": null,
   "id": "6dd623c0",
   "metadata": {},
   "outputs": [],
   "source": [
    "burke_fit = curve_fit(g, burke_2049_ssp2_t, burke_2049_ssp2_d)\n",
    "burke_means, burke_covars = burke_fit\n",
    "burke_a_mean, burke_b_mean = burke_means\n",
    "\n",
    "burke_fit_end = curve_fit(f, burke_2099_ssp2_t, burke_2099_ssp2_d)\n",
    "burke_mean_end, burke_covars_end = burke_fit_end\n",
    "burke_a_mean_end, burke_b_mean_end = burke_mean_end\n",
    "\n",
    "print(\"Mid-century:\")\n",
    "burke_ssp2_mid_d2, burke_ssp2_mid_d1 = fitted_curve(0.065, 0.01, 2)\n",
    "\n",
    "print(\"\\nEnd-of-century:\")\n",
    "burke_ssp2_end_d2, burke_ssp2_end_d1 = fitted_curve(0.195, 0.04, .75)\n",
    "\n",
    "temp = np.arange(0, 7, 0.01)\n",
    "\n",
    "for i in range(1000):\n",
    "    plt.plot(temp, temp * (burke_ssp2_mid_d1[i] + burke_ssp2_mid_d2[i] * temp), alpha=0.01)\n",
    "\n",
    "plt.plot(temp, temp * (np.mean(burke_ssp2_mid_d1) + np.mean(burke_ssp2_mid_d2) * temp), color='k', linewidth=3)   \n",
    "plt.plot(temp, temp * burke_a_mean + burke_b_mean, linestyle='dashed', color='r', linewidth=3)\n",
    "plt.scatter(burke_2049_ssp2_t, burke_2049_ssp2_d)\n",
    "\n",
    "for i in range(1000):\n",
    "    plt.plot(temp, temp * (burke_ssp2_end_d1[i] + burke_ssp2_end_d2[i] * temp), alpha=0.01)\n",
    "\n",
    "plt.plot(temp, temp * (np.mean(burke_ssp2_end_d1) + np.mean(burke_ssp2_end_d2) * temp), color='k', linewidth=3)   \n",
    "plt.plot(temp, temp * (burke_a_mean_end * temp + burke_b_mean_end), linestyle='dashed', color='r', linewidth=3)\n",
    "plt.scatter(burke_2099_ssp2_t, burke_2099_ssp2_d)\n",
    "\n",
    "plt.ylim(0,0.7)"
   ]
  },
  {
   "cell_type": "markdown",
   "id": "654efbc7",
   "metadata": {},
   "source": [
    "### SSP3"
   ]
  },
  {
   "cell_type": "code",
   "execution_count": null,
   "id": "9b8cd588",
   "metadata": {},
   "outputs": [],
   "source": [
    "burke_fit = curve_fit(g, burke_2049_ssp3_t, burke_2049_ssp3_d)\n",
    "burke_means, burke_covars = burke_fit\n",
    "burke_a_mean, burke_b_mean = burke_means\n",
    "\n",
    "burke_fit_end = curve_fit(f, burke_2099_ssp3_t, burke_2099_ssp3_d)\n",
    "burke_mean_end, burke_covars_end = burke_fit_end\n",
    "burke_a_mean_end, burke_b_mean_end = burke_mean_end\n",
    "\n",
    "print(\"Mid-century:\")\n",
    "burke_ssp3_mid_d2, burke_ssp3_mid_d1 = fitted_curve(0.062, 0.01, 2)\n",
    "\n",
    "print(\"\\nEnd-of-century:\")\n",
    "burke_ssp3_end_d2, burke_ssp3_end_d1 = fitted_curve(0.19, 0.04, .69)\n",
    "\n",
    "temp = np.arange(0, 7, 0.01)\n",
    "\n",
    "for i in range(1000):\n",
    "    plt.plot(temp, temp * (burke_ssp3_mid_d1[i] + burke_ssp3_mid_d2[i] * temp), alpha=0.01)\n",
    "\n",
    "plt.plot(temp, temp * (np.mean(burke_ssp3_mid_d1) + np.mean(burke_ssp3_mid_d2) * temp), color='k', linewidth=3)   \n",
    "plt.plot(temp, temp * burke_a_mean + burke_b_mean, linestyle='dashed', color='r', linewidth=3)\n",
    "plt.scatter(burke_2049_ssp3_t, burke_2049_ssp3_d)\n",
    "\n",
    "for i in range(1000):\n",
    "    plt.plot(temp, temp * (burke_ssp3_end_d1[i] + burke_ssp3_end_d2[i] * temp), alpha=0.01)\n",
    "\n",
    "plt.plot(temp, temp * (np.mean(burke_ssp3_end_d1) + np.mean(burke_ssp3_end_d2) * temp), color='k', linewidth=3)   \n",
    "plt.plot(temp, temp * (burke_a_mean_end * temp + burke_b_mean_end), linestyle='dashed', color='r', linewidth=3)\n",
    "plt.scatter(burke_2099_ssp3_t, burke_2099_ssp3_d)\n",
    "\n",
    "plt.ylim(0,0.7)"
   ]
  },
  {
   "cell_type": "markdown",
   "id": "a5fb8090",
   "metadata": {},
   "source": [
    "### SSP4"
   ]
  },
  {
   "cell_type": "code",
   "execution_count": null,
   "id": "f44c4db0",
   "metadata": {},
   "outputs": [],
   "source": [
    "burke_fit = curve_fit(g, burke_2049_ssp4_t, burke_2049_ssp4_d)\n",
    "burke_means, burke_covars = burke_fit\n",
    "burke_a_mean, burke_b_mean = burke_means\n",
    "\n",
    "burke_fit_end = curve_fit(f, burke_2099_ssp4_t, burke_2099_ssp4_d)\n",
    "burke_mean_end, burke_covars_end = burke_fit_end\n",
    "burke_a_mean_end, burke_b_mean_end = burke_mean_end\n",
    "\n",
    "print(\"Mid-century:\")\n",
    "burke_ssp4_mid_d2, burke_ssp4_mid_d1 = fitted_curve(0.049, 0.01, 2.5)\n",
    "\n",
    "print(\"\\nEnd-of-century:\")\n",
    "burke_ssp4_end_d2, burke_ssp4_end_d1 = fitted_curve(0.13, 0.04, .82)\n",
    "\n",
    "temp = np.arange(0, 7, 0.01)\n",
    "\n",
    "for i in range(1000):\n",
    "    plt.plot(temp, temp * (burke_ssp4_mid_d1[i] + burke_ssp4_mid_d2[i] * temp), alpha=0.01)\n",
    "\n",
    "plt.plot(temp, temp * (np.mean(burke_ssp4_mid_d1) + np.mean(burke_ssp4_mid_d2) * temp), color='k', linewidth=3)   \n",
    "plt.plot(temp, temp * burke_a_mean + burke_b_mean, linestyle='dashed', color='r', linewidth=3)\n",
    "plt.scatter(burke_2049_ssp4_t, burke_2049_ssp4_d)\n",
    "\n",
    "for i in range(1000):\n",
    "    plt.plot(temp, temp * (burke_ssp4_end_d1[i] + burke_ssp4_end_d2[i] * temp), alpha=0.01)\n",
    "\n",
    "plt.plot(temp, temp * (np.mean(burke_ssp4_end_d1) + np.mean(burke_ssp4_end_d2) * temp), color='k', linewidth=3)   \n",
    "plt.plot(temp, temp * (burke_a_mean_end * temp + burke_b_mean_end), linestyle='dashed', color='r', linewidth=3)\n",
    "plt.scatter(burke_2099_ssp4_t, burke_2099_ssp4_d)\n",
    "\n",
    "plt.ylim(0,0.7)"
   ]
  },
  {
   "cell_type": "markdown",
   "id": "db70b84b",
   "metadata": {},
   "source": [
    "### SSP5"
   ]
  },
  {
   "cell_type": "code",
   "execution_count": null,
   "id": "0a47827a",
   "metadata": {},
   "outputs": [],
   "source": [
    "burke_fit = curve_fit(g, burke_2049_ssp5_t, burke_2049_ssp5_d)\n",
    "burke_means, burke_covars = burke_fit\n",
    "burke_a_mean, burke_b_mean = burke_means\n",
    "\n",
    "burke_fit_end = curve_fit(f, burke_2099_ssp5_t, burke_2099_ssp5_d)\n",
    "burke_mean_end, burke_covars_end = burke_fit_end\n",
    "burke_a_mean_end, burke_b_mean_end = burke_mean_end\n",
    "\n",
    "print(\"Mid-century:\")\n",
    "burke_ssp5_mid_d2, burke_ssp5_mid_d1 = fitted_curve(0.065, 0.01, 2.1)\n",
    "\n",
    "print(\"\\nEnd-of-century:\")\n",
    "burke_ssp5_end_d2, burke_ssp5_end_d1 = fitted_curve(0.155, 0.04, .82)\n",
    "\n",
    "temp = np.arange(0, 7, 0.01)\n",
    "\n",
    "for i in range(1000):\n",
    "    plt.plot(temp, temp * (burke_ssp5_mid_d1[i] + burke_ssp5_mid_d2[i] * temp), alpha=0.01)\n",
    "\n",
    "plt.plot(temp, temp * (np.mean(burke_ssp5_mid_d1) + np.mean(burke_ssp5_mid_d2) * temp), color='k', linewidth=3)   \n",
    "plt.plot(temp, temp * burke_a_mean + burke_b_mean, linestyle='dashed', color='r', linewidth=3)\n",
    "plt.scatter(burke_2049_ssp5_t, burke_2049_ssp5_d)\n",
    "\n",
    "for i in range(1000):\n",
    "    plt.plot(temp, temp * (burke_ssp5_end_d1[i] + burke_ssp5_end_d2[i] * temp), alpha=0.01)\n",
    "\n",
    "plt.plot(temp, temp * (np.mean(burke_ssp5_end_d1) + np.mean(burke_ssp5_end_d2) * temp), color='k', linewidth=3)   \n",
    "plt.plot(temp, temp * (burke_a_mean_end * temp + burke_b_mean_end), linestyle='dashed', color='r', linewidth=3)\n",
    "plt.scatter(burke_2099_ssp5_t, burke_2099_ssp5_d)\n",
    "\n",
    "plt.ylim(0,0.7)"
   ]
  },
  {
   "cell_type": "markdown",
   "id": "bd1caee1",
   "metadata": {},
   "source": [
    "## Structural damage function"
   ]
  },
  {
   "cell_type": "code",
   "execution_count": null,
   "id": "suitable-jacksonville",
   "metadata": {},
   "outputs": [],
   "source": [
    "struct_data = np.genfromtxt(\"/data/keeling/a/adammb4/ClimateEcon/ez-climate/TCREZClimate/data/IPCC_WGII_RoseDamageEstimates.csv\", delimiter=',', usecols=[0,1])"
   ]
  },
  {
   "cell_type": "code",
   "execution_count": null,
   "id": "b595abff",
   "metadata": {},
   "outputs": [],
   "source": [
    "struct_T, struct_dam = struct_data.T"
   ]
  },
  {
   "cell_type": "code",
   "execution_count": null,
   "id": "12c5b7a7",
   "metadata": {},
   "outputs": [],
   "source": [
    "struct_fit = curve_fit(f, struct_T, struct_dam)\n",
    "struct_means, struct_covars = struct_fit\n",
    "struct_a_mean, struct_b_mean = struct_means\n",
    "\n",
    "print(\"Structural df:\")\n",
    "struct_d2, struct_d1 = fitted_curve(0.027, 0.01, 2.8)\n",
    "\n",
    "# double check fit (uncomment below)\n",
    "dist_d2 = np.random.normal(loc=0.0023056898884004605, scale=0.0008591468977763477, size=1000)\n",
    "dist_d1 = np.random.normal(loc=0.0020495021230226337, scale=0.0007636861313567542, size=1000)\n",
    "\n",
    "temp = np.arange(0, 7, 0.01)\n",
    "\n",
    "for i in range(1000):\n",
    "    plt.plot(temp, temp * (struct_d1[i] + struct_d2[i] * temp), alpha=0.01)\n",
    "    #plt.plot(temp, temp * (dist_d1[i] + dist_d2[i] * temp), alpha=0.01, color='r')\n",
    "\n",
    "plt.plot(temp, temp * (np.mean(struct_d1) + np.mean(struct_d2) * temp), color='k', linewidth=3)   \n",
    "plt.plot(temp, temp * (struct_a_mean* temp + struct_b_mean), linestyle='dashed', color='r', linewidth=3)\n",
    "plt.scatter(struct_T, struct_dam)"
   ]
  },
  {
   "cell_type": "markdown",
   "id": "dbf0f991",
   "metadata": {},
   "source": [
    "## Meta-analytic damage function"
   ]
  },
  {
   "cell_type": "code",
   "execution_count": null,
   "id": "fc3a79ad",
   "metadata": {},
   "outputs": [],
   "source": [
    "hs_data = np.genfromtxt(\"/data/keeling/a/adammb4/ClimateEcon/ez-climate/TCREZClimate/data/IPCC_WGII_HowardSternerDamageEstimates.csv\", delimiter=',', usecols=[0,1])"
   ]
  },
  {
   "cell_type": "code",
   "execution_count": null,
   "id": "twenty-demographic",
   "metadata": {},
   "outputs": [],
   "source": [
    "hs_T, hs_dam = hs_data.T"
   ]
  },
  {
   "cell_type": "code",
   "execution_count": null,
   "id": "964be7fb",
   "metadata": {},
   "outputs": [],
   "source": [
    "hs_fit = curve_fit(f, hs_T, hs_dam)\n",
    "hs_means, hs_covars = hs_fit\n",
    "hs_a_mean, hs_b_mean = hs_means\n",
    "\n",
    "print(\"Structural df:\")\n",
    "hs_d2, hs_d1 = fitted_curve(0.063, 0.022, 3.3)\n",
    "\n",
    "temp = np.arange(0, 12, 0.01)\n",
    "\n",
    "for i in range(1000):\n",
    "    plt.plot(temp, temp * (hs_d1[i] + hs_d2[i] * temp), alpha=0.01)\n",
    "\n",
    "plt.plot(temp, temp * (np.mean(hs_d1) + np.mean(hs_d2) * temp), color='k', linewidth=3)   \n",
    "plt.plot(temp, temp * (hs_a_mean * temp + hs_b_mean), linestyle='dashed', color='r', linewidth=3)\n",
    "plt.scatter(hs_T, hs_dam)"
   ]
  }
 ],
 "metadata": {
  "kernelspec": {
   "display_name": "Python 3 (ipykernel)",
   "language": "python",
   "name": "python3"
  },
  "language_info": {
   "codemirror_mode": {
    "name": "ipython",
    "version": 3
   },
   "file_extension": ".py",
   "mimetype": "text/x-python",
   "name": "python",
   "nbconvert_exporter": "python",
   "pygments_lexer": "ipython3",
   "version": "3.9.12"
  }
 },
 "nbformat": 4,
 "nbformat_minor": 5
}
